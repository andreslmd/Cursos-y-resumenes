{
 "cells": [
  {
   "cell_type": "code",
   "execution_count": null,
   "metadata": {},
   "outputs": [],
   "source": [
    "# ENTORNO DE DESARROLLO\n",
    "# - Python posee un entorno de desarrollo llamado IDLE (Integrated DeveLopment Environment o Integrated Development and Learning Environment).\n",
    "# - El entorno de desarrollo está incluido en Python desde la versión 1.5 y está pensado para ser utilizado como entorno de aprendizaje gracias a su simplicidad."
   ]
  },
  {
   "cell_type": "code",
   "execution_count": 1,
   "metadata": {},
   "outputs": [],
   "source": [
    "# Para instalación de Python:\n",
    "# 1. Ingresar a https://www.python.org.\n",
    "# 2. Navega en la sección Downloads\n",
    "# 3. Selecciona tu sistema operativo (SO): Windows, macOS, Linux.\n",
    "# 4. Descarga la última versión de Python a la fecha de hoy (Julio/2022) es la 3.10.5\n",
    "# NOTA IMPORTANTE: Si instalaste Conda la vesión de Python que trae es la versión 3.9.13 la cual es mejor para usar en Jupyter notebook.\n",
    "# 5. Instalación: Es ejecutar el instalador, aceptar los terminos, elegir el usuario administrador y completar el instalador.\n",
    "# 6. Vas a ver el IDLE de Python.\n",
    "# NOTA IMPORTANTE 2: Hay muchas Entornos de desarrollos entre los más conocidos no voy a decir los mejores ya que a veces depende de los gustos de las personas estan Visual Studio Code (a mi concepto \n",
    "#   el mejor para empezar), PyCharm (Muy interesante pero no me cautivo), Spyder (muy potente pero mas orientedo al lenguaje científico y para ingenieros), Atom(propuesta de GitHub pero después de la \n",
    "#   compra por parte de Microsoft tiene fecha de vencimiento ya que Visual es la joya de la corona), NeoVim o Vim(primero NeoVim es el futuro, muy interante, es un hoja de papel en blanco que debes \n",
    "#   moldear pero se necesita tiempo, dedicación y si eres un usuario nuevo te va costar algo de sacrificio, lo use pero Visual por su facilidad me cautivo) y por último y muy potente Jupyter Notebook\n",
    "#   (viene en el paquete Conda, lo use y su forma me gusto, muy fácil de usar y la otro es su base en block de notas, lo uni en VSC y encontre mi lugar favorito)."
   ]
  },
  {
   "cell_type": "code",
   "execution_count": null,
   "metadata": {},
   "outputs": [],
   "source": []
  }
 ],
 "metadata": {
  "kernelspec": {
   "display_name": "Python 3.9.13 ('base')",
   "language": "python",
   "name": "python3"
  },
  "language_info": {
   "codemirror_mode": {
    "name": "ipython",
    "version": 3
   },
   "file_extension": ".py",
   "mimetype": "text/x-python",
   "name": "python",
   "nbconvert_exporter": "python",
   "pygments_lexer": "ipython3",
   "version": "3.9.13"
  },
  "orig_nbformat": 4,
  "vscode": {
   "interpreter": {
    "hash": "33d0b3812a47b2a084775f8df45e63c6be0c6e0a5db891bfe47b538d2c71f7f0"
   }
  }
 },
 "nbformat": 4,
 "nbformat_minor": 2
}
