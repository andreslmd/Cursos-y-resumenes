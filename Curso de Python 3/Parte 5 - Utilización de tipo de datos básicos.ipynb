{
 "cells": [
  {
   "cell_type": "code",
   "execution_count": null,
   "metadata": {},
   "outputs": [],
   "source": [
    "# Utilización de tipo de datos básicos\n",
    "\n",
    "# - En este tópico vamos a conocer y usar lo diferentes tipos de datos que tenemos.\n",
    "# - En la primera aprenderás a utilizar los números y las diferentes operaciones aritméticas\n",
    "# - La segunda aprenderás a utilizar de forma básica las cadenas de texto\n",
    "# - La tercera aprenderás a utilizas diferentes colecciones de datos \n",
    "# - La cuarta aprenderás los tipos de datos booleanos y las diferentes operaciones lógicas\n",
    "# - La quinta aprenderás a utilizar de forma avanzada las cadenas de texto."
   ]
  },
  {
   "cell_type": "code",
   "execution_count": null,
   "metadata": {},
   "outputs": [],
   "source": [
    "# CONCEPTOS TEORICOS:\n",
    "\n",
    "# Tipos de datos:\n",
    "# - La información no es otra cosa que una secuencia de ceros y unos que se estructuran en bloques para facilitar el manejo de ésta.\n",
    "# - Toda la información que existe se encuentra tipificada por el tipo de información que es (tipo de dato). No es lo mismo una cadena \n",
    "# de texto que un número entero, o decimal.\n",
    "# - Las variables en Python pueden ser de los siguientes tipos de datos:\n",
    "#   ENTEROS: Número sin decimales, tanto positivo como negativo, incluyendo el 0.\n",
    "#   REAL: Número con decimales, tanto positivo como negativo, incluyendo el 0.\n",
    "#   COMPLEJO: Número con parte imaginaria.\n",
    "#   CADENAS DE TEXTO: Texto.\n",
    "#   BOOLEANOS: Pueden tener dos valores: True o False.\n",
    "#   CONJUNTOS: Colección de elementos no ordenados y no repetidos.\n",
    "#   LISTAS: Vector de elementos que pueden ser de diferentes tipos de datos.\n",
    "#   TUPLAS: Lista inmutable de elementos.\n",
    "#   DICCIONARIOS: Lista de elementos que contienen claves y valores.\n",
    "# - Las variables no tienen un tipo concreto en Python, puedes utilizar una variable para almacenar un número en una parte de tu \n",
    "# programa y posteriormente puedes utilizarla para almacenar una lista de elementos."
   ]
  },
  {
   "cell_type": "code",
   "execution_count": 13,
   "metadata": {},
   "outputs": [
    {
     "data": {
      "text/plain": [
       "True"
      ]
     },
     "execution_count": 13,
     "metadata": {},
     "output_type": "execute_result"
    }
   ],
   "source": [
    "# OPERADORES:\n",
    "# - Hay una serie de operadores que también existen en los diferentes lenguajes de programación. \n",
    "# Los operadores se agrupan según la función que realizan: \n",
    "#   - Operadores de asignación.  \n",
    "#   - Operadores aritméticos.  \n",
    "#   - Operadores relacionales.  \n",
    "#   - Operadores lógicos.\n",
    "\n",
    "# Operadores de asignación:\n",
    "# - El operador de asignación ‘=’ sirve para asignar un valor a una variable, lo que esté en la parte derecha del operador será asignado (almacenado) \n",
    "# en la variable de la parte izquierda.\n",
    "# Ejemplo:\n",
    "# 1. asignación de valor:\n",
    "manzana = 20\n",
    "# 2. asignación de cadena de texto\n",
    "mascota = 'perro'\n",
    "\n",
    "# Operadores aritméticos:\n",
    "# - Son aquellos operadores que nos van a permitir realizar operaciones aritméticas con los datos.\n",
    "# - Una buena práctica a la hora de utilizar operadores aritméticos es la utilización de paréntesis para establecer el orden concreto de resolución de \n",
    "# las operaciones, ya que cada lenguaje de programación establece la resolución de forma diferente y puedes encontrar resultados erróneos.\n",
    "# Ejemplo:\n",
    "multiplicacion = 9*6\n",
    "suma = 10+10\n",
    "costos = (3*1000)\n",
    "# Los datos de esas operaciones son almacenados en esas variables\n",
    "\n",
    "# Operadores relacionales:\n",
    "# - Son aquellos que van a permitirte realizar comparaciones entre dos elementos. Son los siguientes:\n",
    "# < menor que\n",
    "# > mayor que\n",
    "# <= menor o igual que \n",
    "# >= mayor o igual que \n",
    "# == igual que \n",
    "# != distinto que \n",
    "\n",
    "# - El resultado de una operación relacional puede ser únicamente dos valores: \n",
    "#   - true: la comparación se cumple.  \n",
    "#   - false: la comparación no se cumple.\n",
    "# Ejemplos \n",
    "7>8\n",
    "90==90\n",
    "#Si ejecutamos estos ejemplos de a uno por uno nos daría en el primero false y en el segundo True \n",
    "\n",
    "# Operadores lógicos:\n",
    "# - Los operadores lógicos permiten combinar las operaciones relacionales del punto anterior o valores booleanos independientes para obtener un único resultado. \n",
    "# - Los operadores lógicos que puedes utilizar son los siguientes: \n",
    "#   - AND(Conjuntivo): operador lógico que realiza la operación lógica ‘Y’ entre dos elementos. El resultado será true si ambos elementos son true, en caso contrario será false. \n",
    "#       # A continuación escribiré los ejemplos principales en una tabla comparativa entre posibles situaciones lógicas AND. \n",
    "#           FALSO ​​AND​​ FALSO = ​​FALSO \n",
    "#           FALSO ​​AND ​​VERDADERO = ​​FALSO \n",
    "#           VERDADERO ​AND ​​FALSO = ​​FALSO \n",
    "#           VERDADERO ​AND ​​VERDADERO = ​​VERDADERO\n",
    "#   - OR(Disyuntivo): operador lógico que realiza la operación lógica ‘O’ entre dos elementos. El resultado será true si uno de los dos elementos es true, en caso contrario será false.\n",
    "#       # A continuación escribiré los ejemplos principales en una tabla comparativa entre posibles situaciones lógicas OR. \n",
    "#           FALSO ​​OR ​​FALSO = ​​FALSO \n",
    "#           FALSO ​​OR ​​VERDADERO = ​​VERDADERO \n",
    "#           VERDADERO ​OR ​​FALSO = ​​VERDADERO \n",
    "#           VERDADERO​ OR ​​VERDADERO = ​​VERDADERO  \n",
    "#   - NOT: operador lógico que realiza la operación lógica ‘NO’. El resultado será true si el elemento es false, y será false si es true.  \n",
    "# - Los operadores lógicos pueden utilizarse en expresiones combinadas, para ello, tal y como te hemos explicado en los operadores aritméticos te aconsejamos que utilices \n",
    "# paréntesis para separar las diferentes expresiones.\n",
    "# Ejemplos\n",
    "(7==7) and (8>3)\n",
    "(8!=7) or (3>7)\n",
    "# En ambos ejemplos ambas son True por que cumplen los criterios para verdadera.\n"
   ]
  },
  {
   "cell_type": "code",
   "execution_count": 14,
   "metadata": {},
   "outputs": [
    {
     "ename": "ValueError",
     "evalue": "invalid literal for int() with base 10: ''",
     "output_type": "error",
     "traceback": [
      "\u001b[0;31m---------------------------------------------------------------------------\u001b[0m",
      "\u001b[0;31mValueError\u001b[0m                                Traceback (most recent call last)",
      "\u001b[0;32m/var/folders/r9/7k2w56q940sgb3jcgnktj6k00000gn/T/ipykernel_2478/14699854.py\u001b[0m in \u001b[0;36m<module>\u001b[0;34m\u001b[0m\n\u001b[1;32m     12\u001b[0m \u001b[0;31m#SUMA\u001b[0m\u001b[0;34m\u001b[0m\u001b[0;34m\u001b[0m\u001b[0m\n\u001b[1;32m     13\u001b[0m \u001b[0;31m#Ejemplos de suma con numeros enteros\u001b[0m\u001b[0;34m\u001b[0m\u001b[0;34m\u001b[0m\u001b[0m\n\u001b[0;32m---> 14\u001b[0;31m \u001b[0msumando1\u001b[0m \u001b[0;34m=\u001b[0m \u001b[0mint\u001b[0m\u001b[0;34m(\u001b[0m\u001b[0minput\u001b[0m\u001b[0;34m(\u001b[0m\u001b[0;34m'Cúal es tu primer número '\u001b[0m\u001b[0;34m)\u001b[0m\u001b[0;34m)\u001b[0m\u001b[0;34m\u001b[0m\u001b[0;34m\u001b[0m\u001b[0m\n\u001b[0m\u001b[1;32m     15\u001b[0m \u001b[0msumando2\u001b[0m \u001b[0;34m=\u001b[0m \u001b[0mint\u001b[0m\u001b[0;34m(\u001b[0m\u001b[0minput\u001b[0m\u001b[0;34m(\u001b[0m\u001b[0;34m'Cúal es tu segundo número '\u001b[0m\u001b[0;34m)\u001b[0m\u001b[0;34m)\u001b[0m\u001b[0;34m\u001b[0m\u001b[0;34m\u001b[0m\u001b[0m\n\u001b[1;32m     16\u001b[0m \u001b[0mprint\u001b[0m\u001b[0;34m(\u001b[0m\u001b[0;34m'El resultado de tu suma es'\u001b[0m\u001b[0;34m,\u001b[0m\u001b[0msumando1\u001b[0m\u001b[0;34m+\u001b[0m\u001b[0msumando2\u001b[0m\u001b[0;34m)\u001b[0m\u001b[0;34m\u001b[0m\u001b[0;34m\u001b[0m\u001b[0m\n",
      "\u001b[0;31mValueError\u001b[0m: invalid literal for int() with base 10: ''"
     ]
    }
   ],
   "source": [
    "# FASE 1: NUMEROS Y OPERADORES ARITMETICOS\n",
    "\n",
    "# En este aprenderás de la utilización de números y de las operaciones aritméticas.\n",
    "# Tienes que tener en cuenta que los números enteros se especifican por la palabra int y los números reales por float. \n",
    "# En los diferentes ejercicios vas a transformar lo que el usuario introduzca con el comando input a números enteros o reales para realizar las diferentes operaciones matemáticas. \n",
    "# Para transformar los valores leídos tienes que hacerlo de la siguiente forma: \n",
    "#   Número enteros: int(input(“texto”)).  \n",
    "#   Número reales: float(input(“text”)).  \n",
    "# El resultado tienes que asignárselo a una variable para poder utilizarlo posteriormente.\n",
    "# NOTA: LOS EJEMPLOS QUE SE REALIZEN CON INPUT ES MEJOR REALIZARLOS EN TU IDE (COMO SIEMPRE HASTA LA FECHA YO ME VOY CON VSC).\n",
    "\n",
    "#SUMA\n",
    "#Ejemplos de suma con numeros enteros\n",
    "sumando1 = int(input('Cúal es tu primer número '))\n",
    "sumando2 = int(input('Cúal es tu segundo número '))\n",
    "print('El resultado de tu suma es',sumando1+sumando2)\n",
    "#Estas líneas de código son interesantes primero usamos el nombre de la variable sumando1 posterior al = tenemos int que nos cambia todo lo que se introduzca a int y posterior abrimos \n",
    "#parentesis para introducir el input y después agregamos el mensaje para el usuario. En la parte final se encuentra un print con un parentesis que en si tiene 2 partes la primera es el \n",
    "#menaje que vamos a devolver al usuario y posterior a esto con la ',' agregamos la suma. \n",
    "#Ejemplo de suma con decimales:\n",
    "decimal_uno = float(input('Cúal es tu primer número '))\n",
    "decimal_dos = float(input('Cúal es tu segundo número '))\n",
    "print('El resultado de tu suma es',decimal_uno+decimal_dos)\n",
    "# NOTA MAS ADELANTE VAMOS A ENSEñAR a redondear.\n",
    "\n",
    "#RESTA\n",
    "#Ejemplos de resta con enteros.\n",
    "minuendo = int(input('Cúal es tu minuendo '))\n",
    "sustraendo = int(input('Cúal es tu sustraendo '))\n",
    "print('El resultado de tu resta es',minuendo-sustraendo)\n",
    "#Ejemplo de resta con float\n",
    "minuendo = float(input('Cúal es tu minuendo '))\n",
    "sustraendo = float(input('Cúal es tu sustraendo '))\n",
    "print('El resultado de tu resta es', minuendo-sustraendo)\n",
    "\n",
    "#Multiplicación\n",
    "#Ejemplo con enteros.\n",
    "multiplicando = int(input('Cúal es tumultiplicando '))\n",
    "multiplicador = int(input('Cúal es tu multiplicador '))\n",
    "print('El resultado de tu multiplicación es',multiplicando*multiplicador)\n",
    "#Ejemplo con float.\n",
    "multiplicando = float(input('Cúal es tumultiplicando '))\n",
    "multiplicador = float(input('Cúal es tu multiplicador '))\n",
    "print('El resultado de tu multiplicación es',multiplicando*multiplicador)\n",
    "\n",
    "#DIVISION\n",
    "#Ejemplo con enteros.\n",
    "dividendo = int(input('Cúal es tu dividendo '))\n",
    "divisor = int(input('Cúal es tu divisor '))\n",
    "print('El resultado de tu división es',dividendo/divisor)\n",
    "#Ejemplo con float.\n",
    "dividendo = float(input('Cúal es tu dividendo '))\n",
    "divisor = float(input('Cúal es tu divisor '))\n",
    "print('El resultado de tu división es',dividendo/divisor)\n",
    "\n",
    "#REDONDEO DE NUMEROS REALES:\n",
    "# La instrucción round utiliza dos parámetros para ejecutarse. El primero de ellos es el número real que quieres redondear \n",
    "# y el segundo es el número de decimales al que quieres redondear.\n",
    "#Vamos a tomar el ejemplo anterior de division con float\n",
    "dividendo = float(input('Cúal es tu dividendo '))\n",
    "divisor = float(input('Cúal es tu divisor '))\n",
    "resultado = round(dividendo/divisor,2)\n",
    "print('El resultado de tu división es',resultado)\n",
    "#- En este caso lo que hicimos fue crear un paso previo con una variable llamada resultado acá realizamos la operación y le \n",
    "#agregamos el round posterior en el parentesis la operacion y por ultimo la coma y el número que quiero redondear en este caso le puse 2\n",
    "# - Otra variante para la realización de este ejercicio es poner la operación con el round al final así\n",
    "dividendo = float(input('Cúal es tu dividendo '))\n",
    "divisor = float(input('Cúal es tu divisor '))\n",
    "print('El resultado de tu división es',round(dividendo/divisor,2))\n",
    "#Esto optimiza el código por que son menos líneas, se aprende con el tiempo y con el uso."
   ]
  },
  {
   "cell_type": "code",
   "execution_count": null,
   "metadata": {},
   "outputs": [],
   "source": [
    "#FASE 2: Cadenas de texto (Básico)\n",
    "\n",
    "#"
   ]
  }
 ],
 "metadata": {
  "kernelspec": {
   "display_name": "Python 3.9.13 ('base')",
   "language": "python",
   "name": "python3"
  },
  "language_info": {
   "codemirror_mode": {
    "name": "ipython",
    "version": 3
   },
   "file_extension": ".py",
   "mimetype": "text/x-python",
   "name": "python",
   "nbconvert_exporter": "python",
   "pygments_lexer": "ipython3",
   "version": "3.9.13"
  },
  "orig_nbformat": 4,
  "vscode": {
   "interpreter": {
    "hash": "33d0b3812a47b2a084775f8df45e63c6be0c6e0a5db891bfe47b538d2c71f7f0"
   }
  }
 },
 "nbformat": 4,
 "nbformat_minor": 2
}
