{
 "cells": [
  {
   "cell_type": "code",
   "execution_count": null,
   "metadata": {},
   "outputs": [],
   "source": [
    "# MANEJO DE MENSAJES POR PANTALLA\n",
    "# - La primera meta es aprender a manejar la entrada y salida de información a través de la pantalla.\n",
    "# - Mostrar información por pantalla y leer información de los usuarios son operaciones necesarias para \n",
    "# conseguir una interactividad alta con las aplicaciones que desarrolles por parte de los usuarios de éstas.\n",
    "# - La primera fase aprenderás a mostrar información a los usuarios y \n",
    "# en la segunda aprenderás a leer información proveniente de los usuarios.\n",
    "\n",
    "# Conceptos teóricos:\\\n",
    "# - Se explicaran 2 comandos muy útiles en la programación en Python: print e input\n",
    "\n",
    "# print:\n",
    "# - Te va a permitir mostrar información al usuario de la aplicación\n",
    "# - El comando se puede utilizar con varias cadenas a mostrar de una sola vez, separadas por comas. De esta forma simplifica el no tener que escribir \n",
    "# una sentencia por cada mensaje que queramos mostrar por pantalla de forma secuencial. Por defecto, se introduce siempre un carácter de separación \n",
    "# entre las diferentes cadenas: el espacio en blanco.\n",
    "\n",
    "# - Es posible utilizar los siguientes parámetros con el comando print: \n",
    "#   - end: permite añadir una cadena de texto como elemento final del conjunto de cadenas de texto que se han enviado para mostrar por pantalla.  \n",
    "#   - sep: permite añadir una cadena de texto al final de cada cadena enviada para mostrar por pantalla y sustituir el espacio en blanco que se introduce \n",
    "#   por defecto entre las diferentes cadenas de texto que son enviadas para mostrarse por pantalla. "
   ]
  },
  {
   "cell_type": "code",
   "execution_count": 2,
   "metadata": {},
   "outputs": [
    {
     "name": "stdout",
     "output_type": "stream",
     "text": [
      "Hello, World!\n"
     ]
    }
   ],
   "source": [
    "# Ejemplo print\n",
    "print('Hello, World!')"
   ]
  },
  {
   "cell_type": "code",
   "execution_count": null,
   "metadata": {},
   "outputs": [],
   "source": [
    "# input\n",
    "# - Te va a permitir leer información introducida por los usuarios de la aplicación mediante el teclado. \n",
    "# - El texto introducido por los usuarios es retornado por el comando como una cadena de texto simple. \n",
    "# - En el caso de necesitar un tipo de dato diferente tendrás que transformar la cadena de texto al tipo de dato que necesites. \n",
    "# Es necesario que el usuario de la aplicación presione la tecla Enter para que se realice la lectura del texto introducido. "
   ]
  },
  {
   "cell_type": "code",
   "execution_count": 15,
   "metadata": {},
   "outputs": [
    {
     "name": "stdout",
     "output_type": "stream",
     "text": [
      "Tu nombres es \n"
     ]
    }
   ],
   "source": [
    "# Ejemplo input (Se va a ejecutar mejor este ejemplo en su IDE, en mi caso VSC preferiblemente que en Jupyter)\n",
    "nombre = input('Cúal es tu nombre? ')\n",
    "print('Tu nombres es',nombre)\n",
    "#Esto lo explico mejor más adelante"
   ]
  },
  {
   "cell_type": "code",
   "execution_count": 9,
   "metadata": {},
   "outputs": [],
   "source": [
    "# Variables: \n",
    "# - Las variables son datos que necesitas almacenar y utilizar en los programas y que residen en la memoria del ordenador. \n",
    "# - Tienen las siguientes características: \n",
    "#   - Nombre: identificador dentro del código fuente que utilizamos para usarlas.  \n",
    "#   - Tipo: tipo de dato que almacena la variable.  \n",
    "#   - Valor: valor que almacenan. Al declarar una variable tienes que indicarle un valor inicial, que puede verse modificado \n",
    "#   a medida que se va ejecutando el programa y según vayas necesitando, de ahí que se llamen variables.\n",
    "\n",
    "# - En Python las variables se definen utilizando las letras de la A a la Z, tanto en mayúsculas como en minúsculas, los números del 0 al 9 \n",
    "# (excepto en el primer carácter del nombre) y utilizando el carácter “_”. \n",
    "# - El lenguaje Python tiene palabras reservadas que no pueden ser utilizadas como nombres de variables.(Las voy a dejar para lo último)\n",
    "\n",
    "# Nombre de las variables.\n",
    "# - Las variables no pueden comenzar con un número.  \n",
    "# - Las variables no pueden contener símbolos especiales.\n",
    "# - Las variables no pueden contener espacios\n",
    "# - Para simular un espacio, es recomendable usar un subrayado bajo(notacion snake_case), ejemplo:\n",
    "mi_primer_variable_en_python = 'Hello, World!'\n",
    "\n",
    "# Hay otros tipos de notación de variables. Les voy a explicar\n",
    "# snake_case: es el ejemplo anterior. La ideal para usar en Python a mi gusto personal me gusta la camelCase.\n",
    "# PascualCase: La primer letra en mayuscular Ejem: PrimerVariable\n",
    "# camelCase: La primera en minuscula y la segunda en mayuscular Ejem: primerVariable NOTA la usan mucho en lenguaje Swift \n",
    "# skewer-case: toda en minuscula y las palabras separadas por un guión Ejem: primer-variable.\n",
    "\n",
    "# - En Python no se establece el tipo de dato a la hora de declarar una variable, realmente no existe una declaración propiamente \n",
    "# dicha como existe en otros lenguajes, simplemente escribes el nombre que quieres que tenga y le asignas el valor correspondiente.\n",
    "\n",
    "# Reglas de la variables\\\n",
    "# 1. Legible: nombre de la variable es relevante según su contenido\n",
    "# 2. Unidad: no existen espacios (puedes incorporar guiones bajos)\n",
    "# 3. Hispanismos: omitir signos específicos del idioma español, como tildes o la letra ñ\n",
    "# 4. Números: los nombres de las variables no deben empezar por números (aunque pueden contenerlos al final)\n",
    "# 5. Signos/símbolos:nosedebenincluir:\"',<>/?|\\()!@# $%^&*~-+\n",
    "# 6. Palabras clave: no utilizamos palabras reservadas por Python"
   ]
  },
  {
   "cell_type": "code",
   "execution_count": 10,
   "metadata": {},
   "outputs": [
    {
     "name": "stdout",
     "output_type": "stream",
     "text": [
      "Hello, World!\n",
      "Mis primeras líneas de código en Python\n"
     ]
    }
   ],
   "source": [
    "# Fase 1: Mostrar información por la pantalla\n",
    "# - El aprendizaje del uso del comando print mediante una serie de ejercicios que te permitirán mostrar información por pantalla a los usuarios.\n",
    "# Ejemplo \n",
    "print('Hello, World!')\n",
    "print('Mis primeras líneas de código en Python')"
   ]
  },
  {
   "cell_type": "code",
   "execution_count": 12,
   "metadata": {},
   "outputs": [
    {
     "name": "stdout",
     "output_type": "stream",
     "text": [
      "1 2 3 4 5\n",
      "1,2,3,4,5\n"
     ]
    }
   ],
   "source": [
    "# - En el siguiente ejercicio seguímos con el comando print pero ahora vamos a usar el parámetro \"sep\"\n",
    "print(1,2,3,4,5) #En este primer caso vamos a ver que no se imprime la coma después de cada número.\n",
    "print(1,2,3,4,5, sep=',') #Ahora con este ejemplo vemos que se le agregó la coma después de cada número."
   ]
  },
  {
   "cell_type": "code",
   "execution_count": 13,
   "metadata": {},
   "outputs": [
    {
     "name": "stdout",
     "output_type": "stream",
     "text": [
      "1 2 3 4 5\n",
      "1 2 3 4 5-"
     ]
    }
   ],
   "source": [
    "# En el siguiente ejercicio vamos a usar el parámetro \"end\"\n",
    "print(1,2,3,4,5) #En este primer caso vamos a ver que no se imprime el guión después del último número.\n",
    "print(1,2,3,4,5, end=('-')) #Ya aca observamos que sale el guión al final del último número."
   ]
  },
  {
   "cell_type": "code",
   "execution_count": 14,
   "metadata": {},
   "outputs": [
    {
     "name": "stdout",
     "output_type": "stream",
     "text": [
      "10 20 30 40 50\n",
      "10-20-30-40-50..."
     ]
    }
   ],
   "source": [
    "# Se puede combinar los anteriores parámetros.\n",
    "print(10, 20, 30, 40, 50) #Sin usar ni un parámetro\n",
    "print(10, 20, 30, 40, 50, sep=('-'), end=('...')) #En este ejemplo lo que hicimos fue 1. sep con un guión y end con puntos suspensivos."
   ]
  },
  {
   "cell_type": "code",
   "execution_count": null,
   "metadata": {},
   "outputs": [],
   "source": [
    "# Fase 2: Leer información en pantalla\n",
    "# - El aprendizaje del comando input mediante una serie de ejercicios que te permitirán leer la información que introducen los usuarios de la aplicación.\n",
    "# - Para el siguiente ejemplo vamos a usar el nombre de una variable la cual le pusimos nombre. Pero comó lo hacemo? Bueno va por partes y usen su IDE o interprete de códigos favorito.\n",
    "# 1. Crear una variable para así guardar la información que el usuario nos va dar atraves de input.\n",
    "nombre = input('Cúal es tu nombre? ')\n",
    "# 2. Ya como usuario no dio su nombre vamos a mostrarselo con una frase (la idea es usar la información administrada, en ocasiones no hay necesidad de mostrarsela al usuario, solamente \n",
    "# almacenarla para procesos internos en el caso se la vamos a mostrar. Para esto vamos a usar la función print y con una frase. Si no entiendes mucho no te preocupes que pronto vas a ir entendiendo)\n",
    "print('Tu nombres es',nombre)\n",
    "#Bueno que hicimos print nos funciona para mostrar la información al usuario, después se imprime todo lo que esta  en el parentesis la primera parte es una frase 'Tu nombre es' se separa de una coma \\\n",
    "# y posteior ponemos la variable en este caso se llama nombre el resultado.\n"
   ]
  },
  {
   "cell_type": "code",
   "execution_count": null,
   "metadata": {},
   "outputs": [],
   "source": [
    "#Aunque no lo creas ya eres capaz de realizar tus primeras líneas de código, las cuales puedes imprimir por print, ingresarles datos a traves de input y por último y lo más importante\n",
    "#ya sabes como crear una varibles y sus caracteristicas las cuales vas a poner en practica siempre."
   ]
  },
  {
   "cell_type": "code",
   "execution_count": null,
   "metadata": {},
   "outputs": [],
   "source": [
    "#PALABRAS RESERVADAS DE PYTHON:\n",
    "# and: representación lógica de Y.  \n",
    "# as: tiene dos funciones, la primera de ellas es para asignar una excepción a un determinado objeto y la segunda es para renombrar un módulo importado al código.  \n",
    "# assert: utilizada en la depuración de código para lanzar errores si se cumplen ciertas condiciones.  \n",
    "# break: sirve para finalizar un bucle.  \n",
    "# class: utilizada para definir una clase.  \n",
    "# continue: suspende la iteración de un bucle y salta a la siguiente iteración de éste.  \n",
    "# def: utilizada para definir funciones.  \n",
    "# del: tiene dos funciones, la primera de ellas es eliminar la referencia de un objeto concreto y la segunda es para eliminar elementos de una lista.  \n",
    "# elif: definición de una bifurcación alternativa con condición.  \n",
    "# else: definición del camino sin condición en una bifurcación.  \n",
    "# except: utilizada para capturar excepciones ocurridas durante la ejecución del código fuente.  \n",
    "# False: utilizada para representar el valor booleano 0 / falso.  \n",
    "# finally: utilizada para definir un bloque de código fuente que se ejecutará al final del procesamiento de las excepciones.  \n",
    "# for: utilizada para definir bucles for.  \n",
    "# from: utilizada para importar elementos de módulos externos a nuestro código.  \n",
    "# global: utilizada para modificar objetos en un ámbito inferior, creando un objeto nuevo y sin alterar el valor del objeto del ámbito superior.  \n",
    "# if: definición de una bifurcación con condición.  \n",
    "# import: importa un módulo externo a nuestro código. Se puede utilizar junto a from, pero en ese caso importará elementos en vez del módulo completo.  \n",
    "# in: determina la existencia de un elemento en una lista, tupla, diccionario o cualquier objeto iterable.  \n",
    "# is: determina si dos objetos son iguales. No es lo mismo dos objetos con los mismos valores que dos objetos iguales.  \n",
    "# lambda: utilizada para definir funciones lambda.  None: utilizada para representar la ausencia de valor.  \n",
    "# nonlocal: permite modificar el valor de un objeto definido en un ámbito anterior.  \n",
    "# not: representación lógica de NO.  \n",
    "# or: representación lógica de O.  \n",
    "# pass: únicamente tiene funciones estéticas para rellenar huecos en el código fuente.  \n",
    "# print: utilizada para imprimir por pantalla una cadena de texto.  raise: utilizada para lanzar excepciones.  \n",
    "# return: utilizada para devolver un elemento al finalizar la ejecución de una función.  \n",
    "# True: utilizada para representar el valor booleano 1 / verdadero.  \n",
    "# try: utilizada para capturar excepciones ocurridas durante la ejecución del código fuente.  \n",
    "# while: utilizada para definir bucles while.  \n",
    "# with: utilizada para encapsular la ejecución de un bloque de código fuente.  \n",
    "# yield: utilizada para devolver más de un elemento al finalizar la ejecución de una función."
   ]
  }
 ],
 "metadata": {
  "kernelspec": {
   "display_name": "Python 3.9.13 ('base')",
   "language": "python",
   "name": "python3"
  },
  "language_info": {
   "codemirror_mode": {
    "name": "ipython",
    "version": 3
   },
   "file_extension": ".py",
   "mimetype": "text/x-python",
   "name": "python",
   "nbconvert_exporter": "python",
   "pygments_lexer": "ipython3",
   "version": "3.9.13"
  },
  "orig_nbformat": 4,
  "vscode": {
   "interpreter": {
    "hash": "33d0b3812a47b2a084775f8df45e63c6be0c6e0a5db891bfe47b538d2c71f7f0"
   }
  }
 },
 "nbformat": 4,
 "nbformat_minor": 2
}
