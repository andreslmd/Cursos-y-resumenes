{
 "cells": [
  {
   "cell_type": "code",
   "execution_count": 1,
   "metadata": {},
   "outputs": [
    {
     "name": "stdout",
     "output_type": "stream",
     "text": [
      "Hello, World!\n"
     ]
    }
   ],
   "source": [
    "#CURSO PYTHON 3\n",
    "\n",
    "#Hola a todos comenzare con este pequeño curso de Python es la forma donde estare enseñando lo poco que ire aprendiendo.\n",
    "\n",
    "# NO PUEDE FALTAR EL FAMOSO:\n",
    "print('Hello, World!')"
   ]
  }
 ],
 "metadata": {
  "kernelspec": {
   "display_name": "Python 3.9.12 ('base')",
   "language": "python",
   "name": "python3"
  },
  "language_info": {
   "codemirror_mode": {
    "name": "ipython",
    "version": 3
   },
   "file_extension": ".py",
   "mimetype": "text/x-python",
   "name": "python",
   "nbconvert_exporter": "python",
   "pygments_lexer": "ipython3",
   "version": "3.9.12"
  },
  "orig_nbformat": 4,
  "vscode": {
   "interpreter": {
    "hash": "56e89962379511ee0962915d7c852e54d8d91e2c20a7410379e52e18ef515e19"
   }
  }
 },
 "nbformat": 4,
 "nbformat_minor": 2
}
