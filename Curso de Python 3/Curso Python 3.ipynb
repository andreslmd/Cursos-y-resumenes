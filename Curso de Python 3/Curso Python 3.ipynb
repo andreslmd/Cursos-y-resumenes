{
 "cells": [
  {
   "cell_type": "code",
   "execution_count": 2,
   "metadata": {},
   "outputs": [
    {
     "name": "stdout",
     "output_type": "stream",
     "text": [
      "Hello, World!\n"
     ]
    }
   ],
   "source": [
    "# CURSO PYTHON 3\n",
    "\n",
    "# Hola a todos comenzare con este pequeño curso de Python, es la forma donde estare enseñando lo poco que ire aprendiendo. \n",
    "# Mi idea es llegar a dominar Python al maximo y llegar a tener un buen nivel en ciencia de datos e inteligencia artificial.\n",
    "# Comenze en el mundo de la programacion con Xcode pero me tome con Python y me enamoro todo el potencial que se puede llegar a tener con este lenguaje de programacion.\\\n",
    "# Espero sea de mi agrado y espero resolver todas tus dudas. Estare en TIKTOK, Instragram, Facebook y YouTube como: andyCode07\n",
    "\n",
    "# NO PUEDE FALTAR EL FAMOSO:\n",
    "print('Hello, World!')\n",
    "# Para comenzar esta aventura."
   ]
  }
 ],
 "metadata": {
  "kernelspec": {
   "display_name": "Python 3.9.12 ('base')",
   "language": "python",
   "name": "python3"
  },
  "language_info": {
   "codemirror_mode": {
    "name": "ipython",
    "version": 3
   },
   "file_extension": ".py",
   "mimetype": "text/x-python",
   "name": "python",
   "nbconvert_exporter": "python",
   "pygments_lexer": "ipython3",
   "version": "3.9.12"
  },
  "orig_nbformat": 4,
  "vscode": {
   "interpreter": {
    "hash": "56e89962379511ee0962915d7c852e54d8d91e2c20a7410379e52e18ef515e19"
   }
  }
 },
 "nbformat": 4,
 "nbformat_minor": 2
}
