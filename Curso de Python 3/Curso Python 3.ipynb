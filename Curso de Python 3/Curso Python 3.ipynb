{
 "cells": [
  {
   "cell_type": "code",
   "execution_count": 2,
   "metadata": {},
   "outputs": [
    {
     "name": "stdout",
     "output_type": "stream",
     "text": [
      "Hello, World!\n"
     ]
    }
   ],
   "source": [
    "# CURSO PYTHON 3\n",
    "\n",
    "# Hola a todos comenzare con este pequeño curso de Python, es la forma donde estare enseñando lo poco que ire aprendiendo. \n",
    "# Mi idea es llegar a dominar Python al maximo y llegar a tener un buen nivel en ciencia de datos e inteligencia artificial.\n",
    "# Comenze en el mundo de la programacion con Xcode pero me tome con Python y me enamoro todo el potencial que se puede llegar a tener con este lenguaje de programacion.\\\n",
    "# Espero sea de mi agrado y espero resolver todas tus dudas. Estare en TIKTOK, Instragram, Facebook y YouTube como: andyCode07\n",
    "\n",
    "# NO PUEDE FALTAR EL FAMOSO:\n",
    "print('Hello, World!')\n",
    "# Para comenzar esta aventura."
   ]
  },
  {
   "cell_type": "code",
   "execution_count": null,
   "metadata": {},
   "outputs": [],
   "source": [
    "#-------------------- Parte 1 \n",
    "\n",
    "# Que es Python?\n",
    "# Python es un lenguaje de programación interpretado cuya filosofía hace hincapié en la legibilidad de su código.\n",
    "# Es un leguaje multiparadigma por que pose:\n",
    "# 1. Programación Orientado a Objetos, 2. Programación Interactiva y 3. Programación Funcional\n",
    "# Python posee las siguientes 4 cualidades: 1. Interpretado, 2. Dinámico, 3. multiplataforma y 4. multiparadigma.\n",
    "\n",
    "# Python como un lenguaje interpretado: Un lenguaje es interpretado cuando el intérprete del lenguaje (es decir, el programa que lo implementa) ejecuta las instrucciones una a una, sin hacer compilación previa.\n",
    "# Esto se diferencia de los lenguajes compilados para los cuales un compilador primero lee el programa completo y luego lo traduce a otra representación, que está pensada para ser ejecutada.\n",
    "# Pero existe una definición más amplia de “interpretado” la cual un lenguaje es interpretado si no lo ejecuta directamente el hardware de la máquina, sino los que son ejecutados por una “máquina virtual” el cual es un programa que simula un CPU.\n",
    "\n",
    "# Python como un lenguaje Dinámico: Python posee un tipado dinámico, en lugar de estático. En los lenguajes estáticos, cuando declaramos una variable es necesario especificar el tipo que tiene y dicho tipo de dato es inalterable.\n",
    "# En el lenguaje Python no es necesario establecer un Tipo y, además, puede cambiar en cualquier momento, ya que viene determinado en tiempo de ejecución por el valor de la variable.\n",
    "# Ejemplo\n",
    "arboles = 'Roble'\n",
    "\n",
    "# Python como un lenguaje multiplataforma: ya que puede ejecutarse su código fuente entre varios sistemas operativos (macOS, Windows, Linux). \n",
    "# Existen varias implementaciones alternativas que están disponibles: IronPython (.NET)  Jython. Ejecutado en el Java Virtual Machine.  PyPy. Implementación de Python en compilador JIT.  Stackless Python.  MicroPython. Se ejecuta Python en microcontroladores.\n",
    "\n",
    "# Los principios de Python: Existen 20 principios de Software que influyen en Python y 19 de estos fueron escritos por Tim Peters.\n",
    "# Los principios son: Explícito es mejor que implícito.  Simple es mejor que complejo.  Bello es mejor que feo.  Complejo es mejor que complicado.  \n",
    "# Plano es mejor que anidado.  Disperso es mejor que denso.  Legibilidad cuenta.  Práctico es mejor que puro.  \n",
    "# Casos especiales no son tan especiales como para quebrantar la regla.  Los errores no deben dejarse pasar silenciosamente.  \n",
    "# A menos que hayan sido silenciados explícitamente.  Frente a la ambigüedad, rechaza la tentación de adivinar.  Debería haber una, y solo una, manera obvia de hacerlo.  Ahora es mejor que nunca.  \n",
    "# Aunque nunca es a veces mejor que ya mismo.  Si la implementación es difícil de explicar, es una mala idea.  Si la implementación es fácil de explicar, quizás sea una buena idea.  \n",
    "# Los namespaces son una gran idea.  Plano es mejor que anidado.\n",
    "\n",
    "# Se debe elegir Python por su sencilles(creado para principiante, sintaxys fácil de comprender), codigo abierto(gratuito y código abierto desde hace 20 años),\n",
    "# Popular(Es popular y se crean miles de librerías, módulos, códigos y programas), multidisciplinario(Varios usos entre Dllo Web, big data, IA, videojuegos, finanzas, etc. Esto te permite\n",
    "# elegir el sector que más te guste y la mejor oferta laboral).\n",
    "\n",
    "# Ventajas de Python: Facilidad de uso.  Legibilidad de código.  Facilidad de escritura de código asíncrono.  Muchas bibliotecas disponibles.\n",
    "# Facilidad de uso.  Legibilidad de código.  Facilidad de escritura de código asíncrono.  Muchas bibliotecas disponibles.\n",
    "\n",
    "# Desventajas de Python: Tiene mas ventajas que desventajas pero estas son: Curva de aprendizaje: la curva de aprendizaje en la parte web no es fácil.  Hosting: la mayoría de los servidores no tienen soporte a Python, pero si lo soportan, la configuración tampoco es sencilla.  \n",
    "# Librerías incluidas: algunas librerías incluidas no son del gusto de la comunidad y prefieren librerías de terceros."
   ]
  },
  {
   "cell_type": "code",
   "execution_count": null,
   "metadata": {},
   "outputs": [],
   "source": [
    "#Parte 2\n",
    " "
   ]
  }
 ],
 "metadata": {
  "kernelspec": {
   "display_name": "Python 3.9.13 ('base')",
   "language": "python",
   "name": "python3"
  },
  "language_info": {
   "codemirror_mode": {
    "name": "ipython",
    "version": 3
   },
   "file_extension": ".py",
   "mimetype": "text/x-python",
   "name": "python",
   "nbconvert_exporter": "python",
   "pygments_lexer": "ipython3",
   "version": "3.9.13"
  },
  "orig_nbformat": 4,
  "vscode": {
   "interpreter": {
    "hash": "33d0b3812a47b2a084775f8df45e63c6be0c6e0a5db891bfe47b538d2c71f7f0"
   }
  }
 },
 "nbformat": 4,
 "nbformat_minor": 2
}
