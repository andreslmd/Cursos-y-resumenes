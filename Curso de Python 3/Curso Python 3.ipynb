{
 "cells": [
  {
   "cell_type": "code",
   "execution_count": 1,
   "metadata": {},
   "outputs": [],
   "source": [
    "#CURSO PYTHON 3\n",
    "\n",
    "#Hola a todos comenzare con este pequeño curso de Python es la forma donde estare enseñando lo poco que ire aprendiendo.\n",
    "\n",
    "#. \n",
    "\n",
    "print('Hello, World!')"
   ]
  }
 ],
 "metadata": {
  "kernelspec": {
   "display_name": "Python 3.9.13 ('base')",
   "language": "python",
   "name": "python3"
  },
  "language_info": {
   "codemirror_mode": {
    "name": "ipython",
    "version": 3
   },
   "file_extension": ".py",
   "mimetype": "text/x-python",
   "name": "python",
   "nbconvert_exporter": "python",
   "pygments_lexer": "ipython3",
   "version": "3.9.13"
  },
  "orig_nbformat": 4,
  "vscode": {
   "interpreter": {
    "hash": "33d0b3812a47b2a084775f8df45e63c6be0c6e0a5db891bfe47b538d2c71f7f0"
   }
  }
 },
 "nbformat": 4,
 "nbformat_minor": 2
}
