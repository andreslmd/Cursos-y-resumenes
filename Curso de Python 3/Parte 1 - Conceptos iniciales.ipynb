{
 "cells": [
  {
   "cell_type": "code",
   "execution_count": 1,
   "metadata": {},
   "outputs": [],
   "source": [
    "# Que es programa?\n",
    "# Un programa es un conjunto de instrucciones o pasos a seguir que se le dan a un ordenador de forma secuencial para que realice una tarea específica.\n",
    "# El flujo normal de un programa es el siguiente: \n",
    "#   1. El programa recibe datos de entrada, normalmente introducidos por los usuarios de éste.  \n",
    "#   2. Ejecuta las instrucciones especificadas por el programador.  \n",
    "#   3. El programa obtiene como resultado un conjunto de datos de salida. \n",
    "        #Datos de entrada ----> programa ------> Datos de salida.\n",
    "\n",
    "# Que es programar?\n",
    "# La acción de decirle a un ordenador exactamente lo que tiene que hacer y cómo lo tiene que hacer utilizando un lenguaje de programación específico.\n",
    "# Los lenguajes de programación permiten a los programadores transformar la idea que tienen del programa en un conjunto de instrucciones que el ordenador es capaz de ejecutar."
   ]
  },
  {
   "cell_type": "code",
   "execution_count": null,
   "metadata": {},
   "outputs": [],
   "source": [
    "# IDE y/o EDITORES DE CODIGO:\n",
    "# Referirnos a IDE, hablamos de un entorno de desarrollo capaz de proporcionar un amplio abanico de características como codificación, compilación, depuración, ejecución, autocompletar, etc. \n",
    "# Mientras que el editor de código simplemente es una plataforma desde al que poder editar y modificar solamente el código, ayudando al programador a escribir scripts, modificar el texto, etc. \n",
    "# Por su parte con el IDE e posible realizar otras funciones, así como ejecutar el código, controlar la versión, etc\n",
    "\n",
    "#### NOTA IMPORTANTE 2: Hay muchas Entornos de desarrollos entre los más conocidos no voy a decir los mejores ya que a veces depende de los gustos de las personas estan Visual Studio Code (a mi concepto \n",
    "#   el mejor para empezar), PyCharm (Muy interesante pero no me cautivo), Spyder (muy potente pero mas orientedo al lenguaje científico y para ingenieros), Atom(propuesta de GitHub pero después de la \n",
    "#   compra por parte de Microsoft tiene fecha de vencimiento ya que Visual es la joya de la corona), NeoVim o Vim(primero NeoVim es el futuro, muy interante, es un hoja de papel en blanco que debes \n",
    "#   moldear pero se necesita tiempo, dedicación y si eres un usuario nuevo te va costar algo de sacrificio, lo use pero Visual por su facilidad me cautivo) y por último y muy potente Jupyter Notebook\n",
    "#   (viene en el paquete Conda, lo use y su forma me gusto, muy fácil de usar y la otro es su base en block de notas, lo uni en VSC y encontre mi lugar favorito)."
   ]
  }
 ],
 "metadata": {
  "kernelspec": {
   "display_name": "Python 3.9.13 ('base')",
   "language": "python",
   "name": "python3"
  },
  "language_info": {
   "codemirror_mode": {
    "name": "ipython",
    "version": 3
   },
   "file_extension": ".py",
   "mimetype": "text/x-python",
   "name": "python",
   "nbconvert_exporter": "python",
   "pygments_lexer": "ipython3",
   "version": "3.9.13"
  },
  "orig_nbformat": 4,
  "vscode": {
   "interpreter": {
    "hash": "33d0b3812a47b2a084775f8df45e63c6be0c6e0a5db891bfe47b538d2c71f7f0"
   }
  }
 },
 "nbformat": 4,
 "nbformat_minor": 2
}
