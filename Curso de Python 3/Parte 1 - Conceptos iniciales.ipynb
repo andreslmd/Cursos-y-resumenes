{
 "cells": [
  {
   "cell_type": "code",
   "execution_count": 1,
   "metadata": {},
   "outputs": [],
   "source": [
    "# Que es programa?\n",
    "# Un programa es un conjunto de instrucciones o pasos a seguir que se le dan a un ordenador de forma secuencial para que realice una tarea específica.\n",
    "# El flujo normal de un programa es el siguiente: \n",
    "#   1. El programa recibe datos de entrada, normalmente introducidos por los usuarios de éste.  \n",
    "#   2. Ejecuta las instrucciones especificadas por el programador.  \n",
    "#   3. El programa obtiene como resultado un conjunto de datos de salida. \n",
    "        #Datos de entrada ----> programa ------> Datos de salida.\n",
    "\n",
    "# Que es programar?\n",
    "# La acción de decirle a un ordenador exactamente lo que tiene que hacer y cómo lo tiene que hacer utilizando un lenguaje de programación específico.\n",
    "# Los lenguajes de programación permiten a los programadores transformar la idea que tienen del programa en un conjunto de instrucciones que el ordenador es capaz de ejecutar."
   ]
  },
  {
   "cell_type": "code",
   "execution_count": null,
   "metadata": {},
   "outputs": [],
   "source": []
  }
 ],
 "metadata": {
  "kernelspec": {
   "display_name": "Python 3.9.13 ('base')",
   "language": "python",
   "name": "python3"
  },
  "language_info": {
   "codemirror_mode": {
    "name": "ipython",
    "version": 3
   },
   "file_extension": ".py",
   "mimetype": "text/x-python",
   "name": "python",
   "nbconvert_exporter": "python",
   "pygments_lexer": "ipython3",
   "version": "3.9.13"
  },
  "orig_nbformat": 4,
  "vscode": {
   "interpreter": {
    "hash": "33d0b3812a47b2a084775f8df45e63c6be0c6e0a5db891bfe47b538d2c71f7f0"
   }
  }
 },
 "nbformat": 4,
 "nbformat_minor": 2
}
